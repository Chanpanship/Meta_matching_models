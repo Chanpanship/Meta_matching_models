{
 "cells": [
  {
   "cell_type": "markdown",
   "metadata": {},
   "source": [
    "## Meta matching v1.0\n",
    "This jupyter notebook demonstrates you how to load and use meta-matching algorthm. In this demonstration, we performed Meta-matching (DNN) stacking with 100 example subjects.\n",
    "\n",
    "Package needed (and version this jupyter notebook tested):\n",
    "* Numpy (1.16.4)\n",
    "* Scipy (1.0.0)\n",
    "* PyTorch (1.3.1)\n",
    "* Scikit-learn (0.21.3)"
   ]
  },
  {
   "cell_type": "markdown",
   "metadata": {},
   "source": [
    "### Step 0. Setup\n",
    "Please modify the `path_repo` below to your repo position:"
   ]
  },
  {
   "cell_type": "code",
   "execution_count": 8,
   "metadata": {},
   "outputs": [],
   "source": [
    "path_repo = '/home/the/deepGround/code/2002/Meta_matching_models/'"
   ]
  },
  {
   "cell_type": "code",
   "execution_count": 9,
   "metadata": {},
   "outputs": [],
   "source": [
    "# initialization and random seed set\n",
    "\n",
    "import os\n",
    "import scipy\n",
    "import torch\n",
    "import random\n",
    "import sklearn\n",
    "import numpy as np\n",
    "\n",
    "seed = 42\n",
    "random.seed(seed)\n",
    "np.random.seed(seed)\n",
    "torch.manual_seed(seed)\n",
    "torch.cuda.manual_seed(seed)\n",
    "torch.cuda.manual_seed_all(seed)\n",
    "\n",
    "import warnings\n",
    "warnings.filterwarnings(\"ignore\")"
   ]
  },
  {
   "cell_type": "markdown",
   "metadata": {},
   "source": [
    "Please modify the gpu number here if you want to use different gpu. If the gpu you assigned not availiable, it will assign to cpu"
   ]
  },
  {
   "cell_type": "code",
   "execution_count": 10,
   "metadata": {},
   "outputs": [],
   "source": [
    "gpu = 0\n",
    "os.environ[\"CUDA_VISIBLE_DEVICES\"] = str(gpu)\n",
    "device = torch.device(\"cuda\" if torch.cuda.is_available() else \"cpu\")"
   ]
  },
  {
   "cell_type": "markdown",
   "metadata": {},
   "source": [
    "### Step 1. load data\n",
    "Load the example data that we provided, it contains \n",
    "* Example input functional connectivity (FC) `x` with size of (100, 87571)\n",
    "    * 100 is number of subjects\n",
    "    * 87571 is flatten vector of 419 by 419 FC (419*418/2=87571)\n",
    "* Example output phenotypes `y` with size of (100, 3)\n",
    "    * 3 is number of phenotypes."
   ]
  },
  {
   "cell_type": "code",
   "execution_count": 11,
   "metadata": {},
   "outputs": [
    {
     "name": "stdout",
     "output_type": "stream",
     "text": [
      "['x', 'y']\n",
      "(100, 87571) (100, 3)\n"
     ]
    }
   ],
   "source": [
    "path_v1 = os.path.join(path_repo, 'v1.0')\n",
    "npz = os.path.join(path_v1, 'meta_matching_v1.0_data.npz')\n",
    "npz = np.load(npz)\n",
    "print(npz.files)\n",
    "x_input = npz['x']\n",
    "y_input = npz['y']\n",
    "print(x_input.shape, y_input.shape)"
   ]
  },
  {
   "cell_type": "markdown",
   "metadata": {},
   "source": [
    "### Step 2. Split data\n",
    "Here, we also split 100 subjects to 80/20, where 80 for training, and 20 for test."
   ]
  },
  {
   "cell_type": "code",
   "execution_count": 12,
   "metadata": {},
   "outputs": [
    {
     "name": "stdout",
     "output_type": "stream",
     "text": [
      "(80, 87571) (20, 87571) (80, 3) (20, 3)\n"
     ]
    }
   ],
   "source": [
    "from sklearn.model_selection import train_test_split\n",
    "x_train, x_test, y_train, y_test = train_test_split(x_input, y_input, test_size=0.2, random_state=42)\n",
    "print(x_train.shape, x_test.shape, y_train.shape, y_test.shape)"
   ]
  },
  {
   "cell_type": "markdown",
   "metadata": {},
   "source": [
    "### Step 3. Prepare data for PyTorch model\n",
    "Then we prepare data for DNN model, we will input both the `x_train` and `x_test` into the model to get the predicted phenotypes. \n",
    "\n",
    "For meta-matching (DNN) stacking, we do not need real phenotype for the DNN model, I created all zeros `y_dummy` just for function requirement. In some other cases, like meta-matching (DNN) finetuning, you need to use real phenotype data here."
   ]
  },
  {
   "cell_type": "code",
   "execution_count": 13,
   "metadata": {},
   "outputs": [],
   "source": [
    "from torch.utils.data import DataLoader\n",
    "from CBIG_model_pytorch import multi_task_dataset\n",
    "\n",
    "batch_size = 16\n",
    "y_dummy = np.zeros(y_train.shape)\n",
    "dset_train = multi_task_dataset(x_train, y_dummy, True)\n",
    "trainLoader = DataLoader(dset_train,\n",
    "                         batch_size=batch_size,\n",
    "                         shuffle=False,\n",
    "                         num_workers=1)\n",
    "\n",
    "y_dummy = np.zeros(y_test.shape)\n",
    "dset_test = multi_task_dataset(x_test, y_dummy, True)\n",
    "testLoader = DataLoader(dset_test,\n",
    "                        batch_size=batch_size,\n",
    "                        shuffle=False,\n",
    "                        num_workers=1)"
   ]
  },
  {
   "cell_type": "markdown",
   "metadata": {},
   "source": [
    "### Step 4. load model\n",
    "Here we load the meta-matching model saved, it is a DNN that takes FC as input and output 67 phenotypes prediction trained on 67 UK Biobank phenotypes"
   ]
  },
  {
   "cell_type": "code",
   "execution_count": 14,
   "metadata": {},
   "outputs": [
    {
     "name": "stdout",
     "output_type": "stream",
     "text": [
      "dnn_4l(\n",
      "  (fc1): Sequential(\n",
      "    (0): Dropout(p=0.28836)\n",
      "    (1): Linear(in_features=87571, out_features=118, bias=True)\n",
      "    (2): ReLU()\n",
      "    (3): BatchNorm1d(118, eps=1e-05, momentum=0.1, affine=True, track_running_stats=True)\n",
      "  )\n",
      "  (fc2): Sequential(\n",
      "    (0): Dropout(p=0.28836)\n",
      "    (1): Linear(in_features=118, out_features=445, bias=True)\n",
      "    (2): ReLU()\n",
      "    (3): BatchNorm1d(445, eps=1e-05, momentum=0.1, affine=True, track_running_stats=True)\n",
      "  )\n",
      "  (fc3): Sequential(\n",
      "    (0): Dropout(p=0.28836)\n",
      "    (1): Linear(in_features=445, out_features=353, bias=True)\n",
      "    (2): ReLU()\n",
      "    (3): BatchNorm1d(353, eps=1e-05, momentum=0.1, affine=True, track_running_stats=True)\n",
      "  )\n",
      "  (fc4): Sequential(\n",
      "    (0): Dropout(p=0.28836)\n",
      "    (1): Linear(in_features=353, out_features=67, bias=True)\n",
      "  )\n",
      ")\n"
     ]
    }
   ],
   "source": [
    "path_model_weight = os.path.join(path_v1, 'meta_matching_v1.0_model.pkl_torch') \n",
    "net = torch.load(path_model_weight)\n",
    "net.to(device)\n",
    "net.train(False)\n",
    "print(net)"
   ]
  },
  {
   "cell_type": "markdown",
   "metadata": {},
   "source": [
    "### Step 5. DNN model predict\n",
    "Here we apply the DNN trained on 67 UK Biobank phenotypes to predict the 67 phenotypes on `x_train` and `x_test`. We will get the predicted 67 phenotypes on both 80 training subjects and 20 test subjects."
   ]
  },
  {
   "cell_type": "code",
   "execution_count": 15,
   "metadata": {},
   "outputs": [
    {
     "name": "stdout",
     "output_type": "stream",
     "text": [
      "(80, 67) \n",
      " [[-0.172272    0.00659015 -0.30208859 ... -0.15929005 -0.38077325\n",
      "   0.03831939]\n",
      " [ 0.08401449 -0.20126963  0.62567258 ...  0.14059752 -0.00804278\n",
      "   0.46316075]\n",
      " [ 0.13499427  0.1402548  -0.51653898 ...  0.0167924  -0.2124238\n",
      "  -0.15089566]\n",
      " ...\n",
      " [ 0.14017338 -0.13507895  0.0617892  ...  0.14889172  0.00375667\n",
      "   0.00102914]\n",
      " [-0.00132062 -0.20964415  0.35207626 ...  0.17323519 -0.12568392\n",
      "  -0.07328422]\n",
      " [-0.14659929  0.0975946  -0.24224234 ... -0.07367411 -0.56735682\n",
      "  -0.06110717]]\n",
      "(20, 67) \n",
      " [[-0.07091491 -0.20356587  0.30995747 ...  0.17636682 -0.36347133\n",
      "  -0.133562  ]\n",
      " [-0.01349919 -0.13479869  0.26539764 ...  0.22685151  0.03282824\n",
      "  -0.2556946 ]\n",
      " [ 0.038739   -0.22324203  0.34538236 ...  0.21638939 -0.10278898\n",
      "  -0.06968385]\n",
      " ...\n",
      " [ 0.01483439 -0.27222618  0.38793996 ...  0.13031593 -0.24093731\n",
      "   0.35386056]\n",
      " [-0.11500867 -0.14910062  0.18525353 ...  0.11365265 -0.3204653\n",
      "  -0.13270395]\n",
      " [ 0.13167757  0.13831383 -0.34880358 ...  0.00669166  0.02046016\n",
      "  -0.12482683]]\n"
     ]
    }
   ],
   "source": [
    "y_train_pred = np.zeros((0, 67))\n",
    "for (x, _) in trainLoader:\n",
    "    x= x.to(device)\n",
    "    outputs = net(x)\n",
    "    y_train_pred = np.concatenate((y_train_pred, outputs.data.cpu().numpy()), axis=0)\n",
    "print(y_train_pred.shape, '\\n', y_train_pred)\n",
    "\n",
    "y_test_pred = np.zeros((0, 67))\n",
    "for (x, _) in testLoader:\n",
    "    x= x.to(device)\n",
    "    outputs = net(x)\n",
    "    y_test_pred = np.concatenate((y_test_pred, outputs.data.cpu().numpy()), axis=0)\n",
    "print(y_test_pred.shape, '\\n', y_test_pred)"
   ]
  },
  {
   "cell_type": "markdown",
   "metadata": {},
   "source": [
    "### Step 6. Stacking\n",
    "Perform stacking with `y_train_pred`, `y_test_pred`, `y_train`, where we use the prediction of 80 subjects `y_train_pred` (input) and real data `y_train` (output) to train the stacking model, then we applied the model to `y_test_pred` to get final prediction of 3 phenotypes on 20 subjects.\n",
    "\n",
    "#### Hyperparameter Tuning \n",
    "In `stacking()` function, we set the range of `alpha` as `[0.00001, 0.0001, 0.001, 0.004, 0.007, 0.01, 0.04, 0.07, 0.1, 0.4, 0.7, 1, 1.5, 2, 2.5, 3, 3.5, 4, 5, 10, 15, 20]`. You are weclome to modify the range of `alpha` to get better performance on your own data."
   ]
  },
  {
   "cell_type": "code",
   "execution_count": 16,
   "metadata": {},
   "outputs": [
    {
     "name": "stdout",
     "output_type": "stream",
     "text": [
      "(20, 3) \n",
      " [[57.24721662 25.07166903 26.82074841]\n",
      " [57.17464648 23.66049013 25.29482583]\n",
      " [57.36885787 24.15978896 24.32611413]\n",
      " [37.18790062 15.75318292 14.14162742]\n",
      " [49.15729714 20.03635589 20.73836004]\n",
      " [47.47034421 19.99249615 19.86601244]\n",
      " [54.40565287 23.1185709  26.45747941]\n",
      " [40.99368824 17.35773053 17.99749348]\n",
      " [39.04515144 14.96222706 19.19093036]\n",
      " [55.31277077 22.70973308 24.75331998]\n",
      " [53.2619468  21.41948143 28.69140928]\n",
      " [69.68917784 29.5580046  31.79062272]\n",
      " [57.15704176 23.55322066 27.88030906]\n",
      " [63.07881709 28.17008186 32.66917763]\n",
      " [61.76455526 25.75144523 30.47333251]\n",
      " [45.64962282 20.3087205  20.5276136 ]\n",
      " [32.08765105 13.84040551 18.5888326 ]\n",
      " [52.84638675 21.69035308 19.09638461]\n",
      " [56.24636571 25.22451189 28.35352671]\n",
      " [30.18812825 12.59620712 15.39083859]]\n"
     ]
    }
   ],
   "source": [
    "from CBIG_model_pytorch import stacking\n",
    "\n",
    "y_test_final, _ = stacking(y_train_pred, y_test_pred, y_train, alpha=[0.00001, 0.0001, 0.001, 0.004, 0.007, 0.01, 0.04, 0.07, 0.1, 0.4, 0.7, 1, 1.5, 2, 2.5, 3, 3.5, 4, 5, 10, 15, 20])\n",
    "print(y_test_final.shape, '\\n', y_test_final)"
   ]
  },
  {
   "cell_type": "markdown",
   "metadata": {},
   "source": [
    "### Step 7. Evaluation\n",
    "Evaluate the prediction performance."
   ]
  },
  {
   "cell_type": "code",
   "execution_count": 17,
   "metadata": {},
   "outputs": [
    {
     "name": "stdout",
     "output_type": "stream",
     "text": [
      "[0.24716759 0.33921718 0.22331057]\n"
     ]
    }
   ],
   "source": [
    "from scipy.stats.stats import pearsonr\n",
    "corr = np.zeros((y_test_final.shape[1]))\n",
    "for i in range(y_test_final.shape[1]):\n",
    "    corr[i] = pearsonr(y_test_final[:, i], y_test[:, i])[0]\n",
    "print(corr)"
   ]
  },
  {
   "cell_type": "markdown",
   "metadata": {},
   "source": [
    "### Step 8. Haufe transform predictive network features (PNFs) computation\n",
    "Here we compute the PNF for stacking we just performed. It computes the covariance between 3 phenotype prediciton and each element of FC on the 80 training subjects. The final PNF is in shape of (87571, 3), where 87571 is number of 419 by 419 FC elements, and 3 is number of phenotypes."
   ]
  },
  {
   "cell_type": "code",
   "execution_count": 18,
   "metadata": {},
   "outputs": [
    {
     "name": "stdout",
     "output_type": "stream",
     "text": [
      "(80, 3)\n",
      "(87571, 3)\n"
     ]
    }
   ],
   "source": [
    "from CBIG_model_pytorch import covariance_rowwise\n",
    "\n",
    "y_train_haufe, _ = stacking(y_train_pred, y_train_pred, y_train)\n",
    "print(y_train_haufe.shape)\n",
    "cov = covariance_rowwise(x_train, y_train_haufe)\n",
    "print(cov.shape)"
   ]
  },
  {
   "cell_type": "markdown",
   "metadata": {},
   "source": [
    "### Step 9. Haufe transform predictive network features (PNFs) computation for training phenotypes\n",
    "Here we compute the PNF for stacking we just performed. It computes the covariance between 3 phenotype prediciton and each training phenotypes on the 80 training subjects. The final PNF is in shape of (67, 3), where 67 is number of training phenotypes, and 3 is number of phenotypes."
   ]
  },
  {
   "cell_type": "code",
   "execution_count": 19,
   "metadata": {},
   "outputs": [
    {
     "name": "stdout",
     "output_type": "stream",
     "text": [
      "(67, 3)\n"
     ]
    }
   ],
   "source": [
    "from CBIG_model_pytorch import covariance_rowwise\n",
    "\n",
    "cov = covariance_rowwise(y_train_pred, y_train_haufe)\n",
    "print(cov.shape)"
   ]
  }
 ],
 "metadata": {
  "interpreter": {
   "hash": "9211f842e4957b840c6ab516fe1756049fc8809c71ad1557ffcdfc52960e8d65"
  },
  "kernelspec": {
   "display_name": "Python 3.6.7 64-bit ('the': conda)",
   "name": "python3"
  },
  "language_info": {
   "codemirror_mode": {
    "name": "ipython",
    "version": 3
   },
   "file_extension": ".py",
   "mimetype": "text/x-python",
   "name": "python",
   "nbconvert_exporter": "python",
   "pygments_lexer": "ipython3",
   "version": "3.6.13"
  },
  "orig_nbformat": 4
 },
 "nbformat": 4,
 "nbformat_minor": 2
}
